{
 "cells": [
  {
   "cell_type": "code",
   "execution_count": 1,
   "metadata": {},
   "outputs": [],
   "source": [
    "from scholarly import scholarly\n",
    "\n",
    "def get_bibtex(title):\n",
    "    search_results = scholarly.search_pubs(title)\n",
    "    pub = next(search_results, None)  # Get the first result\n",
    "    if pub:\n",
    "        return scholarly.bibtex(pub)\n",
    "    return \"No citation found.\""
   ]
  },
  {
   "cell_type": "code",
   "execution_count": 2,
   "metadata": {},
   "outputs": [],
   "source": [
    "from pathlib import Path\n",
    "from tqdm import tqdm"
   ]
  },
  {
   "cell_type": "code",
   "execution_count": 7,
   "metadata": {},
   "outputs": [
    {
     "name": "stderr",
     "output_type": "stream",
     "text": [
      "100%|██████████| 55/55 [00:00<00:00, 39630.08it/s]\n"
     ]
    }
   ],
   "source": [
    "from time import sleep\n",
    "\n",
    "\n",
    "for fold in tqdm(list(Path(\"datasets\").iterdir())): \n",
    "    if not fold.is_dir():\n",
    "        continue\n",
    "    \n",
    "    if (fold / \"citation.bib\").exists():\n",
    "        continue\n",
    "\n",
    "    print(fold.name)\n",
    "\n",
    "    with open(fold / \"citation.bib\", \"w\") as f:\n",
    "        f.write(\n",
    "            get_bibtex(fold.name)\n",
    "        )\n",
    "\n",
    "    sleep(1)"
   ]
  },
  {
   "cell_type": "code",
   "execution_count": null,
   "metadata": {},
   "outputs": [],
   "source": []
  }
 ],
 "metadata": {
  "kernelspec": {
   "display_name": "3.11",
   "language": "python",
   "name": "python3"
  },
  "language_info": {
   "codemirror_mode": {
    "name": "ipython",
    "version": 3
   },
   "file_extension": ".py",
   "mimetype": "text/x-python",
   "name": "python",
   "nbconvert_exporter": "python",
   "pygments_lexer": "ipython3",
   "version": "3.11.9"
  }
 },
 "nbformat": 4,
 "nbformat_minor": 2
}
